{
 "cells": [
  {
   "cell_type": "code",
   "execution_count": 1,
   "id": "73f0a37d",
   "metadata": {},
   "outputs": [],
   "source": [
    "import numpy as np\n",
    "import pymc3 as pm\n",
    "import matplotlib.pyplot as plt\n",
    "import seaborn as sn\n",
    "import theano \n",
    "from theano import tensor as T"
   ]
  },
  {
   "cell_type": "code",
   "execution_count": 7,
   "id": "35bd0431",
   "metadata": {},
   "outputs": [],
   "source": [
    "import sys\n",
    "sys.path.append(\"../\")\n",
    "from global_utilities import "
   ]
  },
  {
   "cell_type": "code",
   "execution_count": 2,
   "id": "a6e7c383",
   "metadata": {},
   "outputs": [],
   "source": [
    "# get minimal formulas length\n",
    "with open('../data/lengths_data.npy', 'rb') as openfile:\n",
    "    lengths = np.load(openfile)"
   ]
  },
  {
   "cell_type": "code",
   "execution_count": 3,
   "id": "e641d16b",
   "metadata": {},
   "outputs": [
    {
     "data": {
      "text/plain": [
       "array([[-1, -1, -1, ..., -1, -1, -1],\n",
       "       [-1, -1, -1, ..., -1, -1, -1],\n",
       "       [-1, -1, -1, ..., -1, -1, -1],\n",
       "       ...,\n",
       "       [ 1,  4,  3, ...,  3,  3,  1],\n",
       "       [ 1,  3,  3, ...,  3,  3,  1],\n",
       "       [ 1,  3,  3, ...,  3,  3,  1]])"
      ]
     },
     "execution_count": 3,
     "metadata": {},
     "output_type": "execute_result"
    }
   ],
   "source": [
    "lengths"
   ]
  },
  {
   "cell_type": "code",
   "execution_count": 4,
   "id": "e301700b",
   "metadata": {},
   "outputs": [
    {
     "data": {
      "text/plain": [
       "(512, 65536)"
      ]
     },
     "execution_count": 4,
     "metadata": {},
     "output_type": "execute_result"
    }
   ],
   "source": [
    "# shape (LoT, category)\n",
    "lengths.shape"
   ]
  },
  {
   "cell_type": "code",
   "execution_count": 6,
   "id": "10300ec0",
   "metadata": {},
   "outputs": [
    {
     "data": {
      "text/plain": [
       "512"
      ]
     },
     "execution_count": 6,
     "metadata": {},
     "output_type": "execute_result"
    }
   ],
   "source": [
    "2**9"
   ]
  },
  {
   "cell_type": "code",
   "execution_count": null,
   "id": "78945829",
   "metadata": {},
   "outputs": [],
   "source": [
    "from ../NeuralNetworksLoT/bayesianModel/utilities import "
   ]
  }
 ],
 "metadata": {
  "kernelspec": {
   "display_name": "pymc3_models",
   "language": "python",
   "name": "pymc3_models"
  },
  "language_info": {
   "codemirror_mode": {
    "name": "ipython",
    "version": 3
   },
   "file_extension": ".py",
   "mimetype": "text/x-python",
   "name": "python",
   "nbconvert_exporter": "python",
   "pygments_lexer": "ipython3",
   "version": "3.8.8"
  }
 },
 "nbformat": 4,
 "nbformat_minor": 5
}
