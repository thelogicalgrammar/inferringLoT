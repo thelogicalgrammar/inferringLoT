{
 "cells": [
  {
   "cell_type": "code",
   "execution_count": 1,
   "id": "360ab7ea",
   "metadata": {},
   "outputs": [],
   "source": [
    "import numpy as np\n",
    "import matplotlib.pyplot as plt\n",
    "import seaborn as sns\n",
    "import sys\n",
    "sys.path.append(\"../\")\n",
    "from global_utilities import LoT_indices_to_operators\n",
    "from functions import *\n",
    "from importlib import reload\n",
    "import pandas as pd"
   ]
  },
  {
   "cell_type": "markdown",
   "id": "ad4ed897",
   "metadata": {},
   "source": [
    "# Setup"
   ]
  },
  {
   "cell_type": "code",
   "execution_count": 2,
   "id": "7d3021be",
   "metadata": {},
   "outputs": [],
   "source": [
    "sns.set_style(\"dark\")"
   ]
  },
  {
   "cell_type": "code",
   "execution_count": 32,
   "id": "ef31c2a1",
   "metadata": {},
   "outputs": [],
   "source": [
    "figwidth = 8.27"
   ]
  },
  {
   "cell_type": "code",
   "execution_count": 4,
   "id": "5669f117",
   "metadata": {},
   "outputs": [],
   "source": [
    "# get minimal formulas length\n",
    "with open('C:/Users/faust/Desktop/neuralNetsLoT/complete_lengths.npy', 'rb') as openfile:\n",
    "    lengths = np.load(openfile)"
   ]
  },
  {
   "cell_type": "code",
   "execution_count": 5,
   "id": "9c6a1577",
   "metadata": {},
   "outputs": [],
   "source": [
    "NUM_PROPERTIES = 4\n",
    "LoTs = LoT_indices_to_operators()\n",
    "\n",
    "categories = np.array([\n",
    "    [int(a) for a in f'{n:0{2**NUM_PROPERTIES}b}']\n",
    "    for n in range(0, 2**(2**NUM_PROPERTIES))\n",
    "])"
   ]
  },
  {
   "cell_type": "markdown",
   "id": "04105443",
   "metadata": {},
   "source": [
    "## Figure - Distribution of lengths of minimal formulas"
   ]
  },
  {
   "cell_type": "code",
   "execution_count": 126,
   "id": "c689f3a7",
   "metadata": {},
   "outputs": [
    {
     "data": {
      "image/png": "[encoded data removed]",
      "text/plain": [
       "<Figure size 595.44x416.808 with 4 Axes>"
      ]
     },
     "metadata": {},
     "output_type": "display_data"
    }
   ],
   "source": [
    "fig, axes = plt.subplot_mosaic(\n",
    "    \"\"\"\n",
    "    BCD\n",
    "    AAA\n",
    "    \"\"\"\n",
    ") \n",
    "\n",
    "fig.set_size_inches(figwidth, figwidth*0.5)\n",
    "\n",
    "axes_all_langs = axes['A']\n",
    "axes_all_langs.scatter(\n",
    "    LoTs.values.sum(axis=1),\n",
    "    lengths.mean(axis=1)\n",
    ")\n",
    "\n",
    "axes_all_langs.set_xlabel('Number of operators')\n",
    "axes_all_langs.set_ylabel('Average length\\nof minimal formulas')\n",
    "# axes_all_langs.set_ylim(0, 20)\n",
    "\n",
    "sns.histplot(\n",
    "    lengths[-1],\n",
    "    ax=axes['B'],\n",
    "    log_scale=(False,True)\n",
    ")\n",
    "axes['B'].set_xlabel('Formula length')\n",
    "axes['B'].set_title('All operators')\n",
    "\n",
    "sns.histplot(\n",
    "    lengths[4],\n",
    "    ax=axes['C'],\n",
    "    log_scale=(False,True)\n",
    ")\n",
    "axes['C'].set_xlabel('Formula length')\n",
    "axes['C'].set_title('NAND')\n",
    "\n",
    "sns.histplot(\n",
    "    lengths[320],\n",
    "    ax=axes['D'],\n",
    "    log_scale=(False,True)\n",
    ")\n",
    "axes['D'].set_xlabel('Formula length')\n",
    "axes['D'].set_title(r'OR, NOT')\n",
    "\n",
    "fig.set_size_inches(figwidth, figwidth*0.7)\n",
    "fig.tight_layout()\n",
    "fig.savefig(\n",
    "    './plots/minimal_formulas.jpg',\n",
    "    dpi=300\n",
    ")"
   ]
  },
  {
   "cell_type": "markdown",
   "id": "8a9b6405",
   "metadata": {},
   "source": [
    "Std of average minimal formulas among the 9 LoTs with 8 operators"
   ]
  },
  {
   "cell_type": "code",
   "execution_count": 100,
   "id": "f7b982ed",
   "metadata": {},
   "outputs": [
    {
     "data": {
      "text/plain": [
       "0.00038044733628422845"
      ]
     },
     "execution_count": 100,
     "metadata": {},
     "output_type": "execute_result"
    }
   ],
   "source": [
    "indices_8 = LoTs.sum(axis=1)==8\n",
    "lengths[indices_8].mean(axis=1).std()"
   ]
  },
  {
   "cell_type": "markdown",
   "id": "91f220f6",
   "metadata": {},
   "source": [
    "## Figure - Average complexity of each category across all LoTs"
   ]
  },
  {
   "cell_type": "code",
   "execution_count": 6,
   "id": "4fb12416",
   "metadata": {},
   "outputs": [],
   "source": [
    "categories = np.array(list(map(number_to_category, np.arange(0, 65536))))\n",
    "number_properties_objects = categories[[43690, 52428, 61680, 65280]].sum(0)\n",
    "average_complexity = lengths[lengths[:,0]!=-1].mean(0)\n",
    "\n",
    "# a encodes how many properties each object has\n",
    "# 0 and 4 are excluded because they only have one object each\n",
    "a = np.row_stack((\n",
    "    number_properties_objects==1,\n",
    "    number_properties_objects==2,\n",
    "    number_properties_objects==3\n",
    "))\n",
    "\n",
    "category_quantitative = np.all((# If a, then the category is always true\n",
    "        np.all(1-a[:,None] |  categories[None], axis=2)\n",
    "        | # OR\n",
    "        # If a, then the category is always false\n",
    "        np.all((1-a[:,None]) | 1-categories[None], axis=2)),\n",
    "    axis=0\n",
    ")\n",
    "\n",
    "argsort_number_properties = np.argsort(number_properties_objects)\n",
    "\n",
    "# find increasing mons and decreasing mons and non-mons\n",
    "ordered_diff = np.diff(categories[category_quantitative][:,argsort_number_properties], axis=1)\n",
    "\n",
    "ones = ordered_diff == 1\n",
    "minus_ones = ordered_diff == -1\n",
    "\n",
    "monotonic_increasing = (ones.sum(1)<=1)&(minus_ones.sum(1)==0)\n",
    "monotonic_decreasing = (ones.sum(1)==0)&(minus_ones.sum(1)<=1)\n",
    "non_monotonic = np.logical_not(monotonic_increasing)&np.logical_not(monotonic_decreasing)\n",
    "\n",
    "quantitative_average_complexity = average_complexity[np.argwhere(category_quantitative).flatten()]"
   ]
  },
  {
   "cell_type": "code",
   "execution_count": 7,
   "id": "80dd2eaa",
   "metadata": {},
   "outputs": [
    {
     "data": {
      "text/plain": [
       "array([[5736]], dtype=int64)"
      ]
     },
     "execution_count": 7,
     "metadata": {},
     "output_type": "execute_result"
    }
   ],
   "source": [
    "# find categories that are true when objects have any number of properties\n",
    "np.argwhere(np.all(1-(\n",
    "    categories ^ \n",
    "    (number_properties_objects==2)  # specify number of properties here\n",
    "), axis=1))"
   ]
  },
  {
   "cell_type": "code",
   "execution_count": 13,
   "id": "f938c8f2",
   "metadata": {},
   "outputs": [
    {
     "name": "stdout",
     "output_type": "stream",
     "text": [
      "Avg complexity for category with 0 properties:  3.7983193277310923\n",
      "Avg complexity for category with 1 properties:  8.264705882352942\n",
      "Avg complexity for category with 2 properties:  9.275210084033613\n",
      "Avg complexity for category with 3 properties:  8.277310924369749\n",
      "Avg complexity for category with 4 properties:  3.668067226890756\n"
     ]
    }
   ],
   "source": [
    "print('Avg complexity for category with 0 properties: ', average_complexity[1])\n",
    "print('Avg complexity for category with 1 properties: ', average_complexity[278])\n",
    "print('Avg complexity for category with 2 properties: ', average_complexity[5736])\n",
    "print('Avg complexity for category with 3 properties: ', average_complexity[26752])\n",
    "print('Avg complexity for category with 4 properties: ', average_complexity[32768])"
   ]
  },
  {
   "cell_type": "code",
   "execution_count": 16,
   "id": "0865bc7a",
   "metadata": {},
   "outputs": [
    {
     "data": {
      "text/plain": [
       "32"
      ]
     },
     "execution_count": 16,
     "metadata": {},
     "output_type": "execute_result"
    }
   ],
   "source": [
    "# there is a total of 32 quantitative categories\n",
    "category_quantitative.sum()"
   ]
  },
  {
   "cell_type": "code",
   "execution_count": 65,
   "id": "160188cb",
   "metadata": {},
   "outputs": [
    {
     "data": {
      "image/png": "[encoded data removed]",
      "text/plain": [
       "<Figure size 595.44x297.72 with 4 Axes>"
      ]
     },
     "metadata": {},
     "output_type": "display_data"
    }
   ],
   "source": [
    "fig, axes = plt.subplots(\n",
    "    4,1,\n",
    "    sharex=True,\n",
    "    gridspec_kw={'height_ratios':[10,1,1,1]},\n",
    "    figsize=(figwidth, figwidth*0.5)\n",
    ")\n",
    "\n",
    "sns.histplot(\n",
    "    average_complexity,\n",
    "    ax=axes[0],\n",
    "    stat='density',\n",
    "    bins=200\n",
    ")\n",
    "\n",
    "sns.histplot(\n",
    "    average_complexity[np.argwhere(category_quantitative).flatten()[monotonic_increasing]],\n",
    "    ax=axes[1],\n",
    "    bins=200,\n",
    "#     color='blue'\n",
    ")\n",
    "\n",
    "sns.histplot(\n",
    "    average_complexity[np.argwhere(category_quantitative).flatten()[monotonic_decreasing]],\n",
    "    ax=axes[2],\n",
    "    bins=200,\n",
    "#     color='red'\n",
    ")\n",
    "\n",
    "sns.histplot(\n",
    "    average_complexity[np.argwhere(category_quantitative).flatten()[non_monotonic]],\n",
    "    ax=axes[3],\n",
    "    bins=200,\n",
    "#     color='green'\n",
    ")\n",
    "\n",
    "for ax in axes[1:]:\n",
    "    ax.set_ylim(0,4)\n",
    "    ax.set_ylabel('')\n",
    "    ax.set_yticks([0,4])\n",
    "    ax.yaxis.set_label_position(\"right\")\n",
    "    ax.yaxis.tick_right()    \n",
    "\n",
    "for ax, label in zip(axes[1:], ['Monotonic increasing', 'Monotonic decreasing', 'Non monotonic']):\n",
    "    ax.set_title(\n",
    "        label,\n",
    "        fontsize=9,\n",
    "        loc='left',\n",
    "        pad=3\n",
    "    )\n",
    "\n",
    "axes[3].set_xlabel('Average minimal formula length')\n",
    "fig.subplots_adjust(hspace=0.3)\n",
    "\n",
    "fig.savefig('./plots/minimal_formulas_across_LoTs.jpg', dpi=300)"
   ]
  },
  {
   "cell_type": "code",
   "execution_count": 105,
   "id": "c950a8ca",
   "metadata": {},
   "outputs": [
    {
     "data": {
      "text/plain": [
       "[1, 0, 1, 0, 1, 0, 1, 0, 1, 0, 1, 0, 1, 0, 1, 0]"
      ]
     },
     "execution_count": 105,
     "metadata": {},
     "output_type": "execute_result"
    }
   ],
   "source": [
    "number_to_category(43690)"
   ]
  },
  {
   "cell_type": "code",
   "execution_count": 109,
   "id": "0db2d43f",
   "metadata": {},
   "outputs": [
    {
     "data": {
      "text/plain": [
       "[[1, 0, 1, 0, 1, 0, 1, 0, 1, 0, 1, 0, 1, 0, 1, 0],\n",
       " [1, 1, 0, 0, 1, 1, 0, 0, 1, 1, 0, 0, 1, 1, 0, 0],\n",
       " [1, 1, 1, 1, 0, 0, 0, 0, 1, 1, 1, 1, 0, 0, 0, 0],\n",
       " [1, 1, 1, 1, 1, 1, 1, 1, 0, 0, 0, 0, 0, 0, 0, 0]]"
      ]
     },
     "execution_count": 109,
     "metadata": {},
     "output_type": "execute_result"
    }
   ],
   "source": [
    "list(map(number_to_category, np.argwhere(average_complexity==0).flatten()))"
   ]
  },
  {
   "cell_type": "code",
   "execution_count": 89,
   "id": "fd004606",
   "metadata": {},
   "outputs": [
    {
     "data": {
      "text/plain": [
       "26753"
      ]
     },
     "execution_count": 89,
     "metadata": {},
     "output_type": "execute_result"
    }
   ],
   "source": [
    "np.argmax(average_complexity)"
   ]
  },
  {
   "cell_type": "code",
   "execution_count": 113,
   "id": "4aef0bc4",
   "metadata": {},
   "outputs": [
    {
     "data": {
      "text/plain": [
       "array([[26753]], dtype=int64)"
      ]
     },
     "execution_count": 113,
     "metadata": {},
     "output_type": "execute_result"
    }
   ],
   "source": [
    "np.argwhere(average_complexity == average_complexity[26753])"
   ]
  },
  {
   "cell_type": "code",
   "execution_count": 110,
   "id": "119f32cd",
   "metadata": {},
   "outputs": [
    {
     "data": {
      "text/plain": [
       "[0, 1, 1, 0, 1, 0, 0, 0, 1, 0, 0, 0, 0, 0, 0, 1]"
      ]
     },
     "execution_count": 110,
     "metadata": {},
     "output_type": "execute_result"
    }
   ],
   "source": [
    "number_to_category(26753)"
   ]
  },
  {
   "cell_type": "markdown",
   "id": "50cf0727",
   "metadata": {},
   "source": [
    "The most complex category (on average across LoTs) is the one that is true when the category has 0 or 3 of the properties!"
   ]
  },
  {
   "cell_type": "markdown",
   "id": "da75707a",
   "metadata": {},
   "source": [
    "# Plot across parameters"
   ]
  },
  {
   "cell_type": "code",
   "execution_count": 11,
   "id": "a6e1107c",
   "metadata": {},
   "outputs": [],
   "source": [
    "from glob import glob\n",
    "from os.path import splitext, basename"
   ]
  },
  {
   "cell_type": "code",
   "execution_count": 12,
   "id": "1eb56582",
   "metadata": {},
   "outputs": [],
   "source": [
    "def parse_path(pathn):\n",
    "    p_basename = splitext(basename(pathn))[0]\n",
    "    return {\n",
    "        x.split('-')[0]: eval(x.split('-')[1])\n",
    "        for x \n",
    "        in p_basename.split('_')\n",
    "    }"
   ]
  },
  {
   "cell_type": "code",
   "execution_count": 13,
   "id": "61206105",
   "metadata": {},
   "outputs": [],
   "source": [
    "dfs = []\n",
    "for path in glob('C:/Users/faust/Desktop/neuralNetsLoT/lot_recovery/*.npz'):\n",
    "    with open(path, 'rb') as openf:\n",
    "        npzfile = np.load(openf)\n",
    "        LoTs_results = npzfile['LoTs']\n",
    "        results = npzfile['results']\n",
    "\n",
    "    results = results.squeeze()\n",
    "    LoTs_results_df = pd.DataFrame(\n",
    "        LoTs_results,\n",
    "        columns=['O','A','N','C','B','X','NA','NOR','NC']\n",
    "    )\n",
    "    LoTs_names = (\n",
    "        pd.DataFrame(np.where(LoTs_results_df, LoTs_results_df.columns, ''))\n",
    "        .apply(lambda x: '_'.join([a for a in x if a!='']), axis=1)\n",
    "    )\n",
    "    \n",
    "    df = pd.DataFrame(results, columns=LoTs_names, index=LoTs_names).unstack().reset_index()\n",
    "    df = df.rename(\n",
    "        {\n",
    "            'level_0': 'inferred_LoT',\n",
    "            'level_1': 'true_LoT',\n",
    "            0: 'logp'\n",
    "        }, \n",
    "        axis='columns'\n",
    "    )\n",
    "    \n",
    "    df['p'] = np.exp(df['logp'])\n",
    "    \n",
    "    df['n_ops'] = df['true_LoT'].str.count('_')+1\n",
    "    \n",
    "    params = parse_path(path)\n",
    "    df['datasize'] = params['datasize']\n",
    "    df['nparticipants'] = params['nparticipants']\n",
    "    df['temp'] = params['temp']\n",
    "    \n",
    "    dfs.append(df)\n",
    "\n",
    "dfs = pd.concat(dfs)\n",
    "\n",
    "dfs['surprisal'] = -dfs['logp']*dfs['p']"
   ]
  },
  {
   "cell_type": "markdown",
   "id": "676f10bd",
   "metadata": {},
   "source": [
    "## Figure - Variation in the overall recoverability of data"
   ]
  },
  {
   "cell_type": "code",
   "execution_count": 28,
   "id": "b6115a78",
   "metadata": {},
   "outputs": [],
   "source": [
    "mean_entropies_by_true_LoT = (\n",
    "    entropy_by_params_combo[['true_LoT','surprisal']]\n",
    "    .groupby('true_LoT')\n",
    "    .agg([np.mean, np.std])\n",
    "    ['surprisal']\n",
    "    .sort_values('mean', ascending=False)\n",
    ")"
   ]
  },
  {
   "cell_type": "code",
   "execution_count": 34,
   "id": "5c2ff5c9",
   "metadata": {},
   "outputs": [
    {
     "data": {
      "image/png": "[encoded data removed]",
      "text/plain": [
       "<Figure size 595.44x178.632 with 1 Axes>"
      ]
     },
     "metadata": {},
     "output_type": "display_data"
    }
   ],
   "source": [
    "fig, ax = plt.subplots(1,1,figsize=(figwidth, figwidth*0.3))\n",
    "\n",
    "sns.lineplot(\n",
    "    x=np.arange(len(mean_entropies_by_true_LoT)),\n",
    "    y=mean_entropies_by_true_LoT['mean'].values,\n",
    "    ax=ax\n",
    ")\n",
    "\n",
    "ax.set_ylabel('Mean entropy')\n",
    "ax.set_xlabel('LoT (ordered by decreasing mean entropy)')\n",
    "plt.tight_layout()\n",
    "fig.savefig('./plots/marginal_posterior_entropy_PNAS.jpg', dpi=300)"
   ]
  },
  {
   "cell_type": "code",
   "execution_count": 95,
   "id": "cef7fcc2",
   "metadata": {},
   "outputs": [
    {
     "data": {
      "image/png": "[encoded data removed]",
      "text/plain": [
       "<Figure size 595.44x297.72 with 2 Axes>"
      ]
     },
     "metadata": {},
     "output_type": "display_data"
    }
   ],
   "source": [
    "fig, (ax1,ax2) = plt.subplots(\n",
    "    2,1, \n",
    "    sharex=True,\n",
    "    figsize=(figwidth, figwidth*0.5)\n",
    ")\n",
    "\n",
    "sns.lineplot(\n",
    "    x=np.arange(len(mean_entropies_by_true_LoT)),\n",
    "    y=mean_entropies_by_true_LoT['mean'].values,\n",
    "    ax=ax1\n",
    ")\n",
    "sns.lineplot(\n",
    "    x=np.arange(len(mean_entropies_by_true_LoT)),\n",
    "    y=mean_entropies_by_true_LoT['std'].values,\n",
    "    ax=ax2\n",
    ")\n",
    "\n",
    "ax1.set_ylabel('Mean entropy')\n",
    "ax2.set_ylabel('Entropy std')\n",
    "ax2.set_xlabel('LoT (ordered by decreasing mean entropy)')\n",
    "\n",
    "fig.savefig('./plots/marginal_posterior_entropy.jpg', dpi=300)"
   ]
  },
  {
   "cell_type": "markdown",
   "id": "818f04f2",
   "metadata": {},
   "source": [
    "## Figure - Which LoTs can be recovered"
   ]
  },
  {
   "cell_type": "code",
   "execution_count": 14,
   "id": "b1e18aa5",
   "metadata": {},
   "outputs": [],
   "source": [
    "dfs['accepted'] = dfs['p']>=0.95"
   ]
  },
  {
   "cell_type": "code",
   "execution_count": 15,
   "id": "4efaaca1",
   "metadata": {},
   "outputs": [],
   "source": [
    "df_groupby_params = dfs.groupby(['datasize', 'nparticipants', 'temp'])"
   ]
  },
  {
   "cell_type": "code",
   "execution_count": 16,
   "id": "50ef60c7",
   "metadata": {},
   "outputs": [],
   "source": [
    "df_groupby_params_sum = df_groupby_params.sum()"
   ]
  },
  {
   "cell_type": "code",
   "execution_count": 17,
   "id": "a1f00104",
   "metadata": {},
   "outputs": [],
   "source": [
    "num_accepted_by_param = df_groupby_params_sum.loc[df_groupby_params_sum['accepted']>0,'accepted'].reset_index()"
   ]
  },
  {
   "cell_type": "code",
   "execution_count": 200,
   "id": "5b0b2c3b",
   "metadata": {},
   "outputs": [
    {
     "name": "stdout",
     "output_type": "stream",
     "text": [
      "datasize\n",
      "1     6444.0\n",
      "5     6444.0\n",
      "10    6444.0\n",
      "15    6444.0\n",
      "Name: p, dtype: float64\n",
      "nparticipants\n",
      "1      4296.0\n",
      "10     4296.0\n",
      "30     4296.0\n",
      "60     4296.0\n",
      "120    4296.0\n",
      "250    4296.0\n",
      "Name: p, dtype: float64\n",
      "temp\n",
      "0.5    8592.0\n",
      "1.0    8592.0\n",
      "3.0    8592.0\n",
      "Name: p, dtype: float64\n"
     ]
    }
   ],
   "source": [
    "# find out how many total experiments there were for each value of each parameter\n",
    "# (marginalized across all other params)\n",
    "print(df_groupby_params_sum.sum(level=0)['p'])\n",
    "print(df_groupby_params_sum.sum(level=1)['p'])\n",
    "print(df_groupby_params_sum.sum(level=2)['p'])"
   ]
  },
  {
   "cell_type": "code",
   "execution_count": 118,
   "id": "8bedc93f",
   "metadata": {},
   "outputs": [
    {
     "name": "stdout",
     "output_type": "stream",
     "text": [
      "\\begin{tabular}{lr}\n",
      "\\toprule\n",
      "{} &  accepted \\\\\n",
      "datasize &           \\\\\n",
      "\\midrule\n",
      "1        &        35 \\\\\n",
      "5        &       107 \\\\\n",
      "10       &        51 \\\\\n",
      "\\bottomrule\n",
      "\\end{tabular}\n",
      "\n",
      "\\begin{tabular}{lr}\n",
      "\\toprule\n",
      "{} &  accepted \\\\\n",
      "nparticipants &           \\\\\n",
      "\\midrule\n",
      "10            &         4 \\\\\n",
      "30            &        10 \\\\\n",
      "60            &        28 \\\\\n",
      "120           &        55 \\\\\n",
      "250           &        96 \\\\\n",
      "\\bottomrule\n",
      "\\end{tabular}\n",
      "\n",
      "\\begin{tabular}{lr}\n",
      "\\toprule\n",
      "{} &  accepted \\\\\n",
      "temp &           \\\\\n",
      "\\midrule\n",
      "0.5  &        23 \\\\\n",
      "1.0  &        87 \\\\\n",
      "3.0  &        83 \\\\\n",
      "\\bottomrule\n",
      "\\end{tabular}\n",
      "\n"
     ]
    }
   ],
   "source": [
    "# print number of recovered by parameter value\n",
    "print(num_accepted_by_param.groupby('datasize').sum()['accepted'].to_latex())\n",
    "print(num_accepted_by_param.groupby('nparticipants').sum()['accepted'].to_latex())\n",
    "print(num_accepted_by_param.groupby('temp').sum()['accepted'].to_latex())"
   ]
  },
  {
   "cell_type": "code",
   "execution_count": 100,
   "id": "ab9cec9a",
   "metadata": {},
   "outputs": [],
   "source": [
    "dfs_high_conf = dfs[dfs['p']>0.95]"
   ]
  },
  {
   "cell_type": "markdown",
   "id": "c9cad045",
   "metadata": {},
   "source": [
    "Here find the two incorrectly identified LoTs"
   ]
  },
  {
   "cell_type": "code",
   "execution_count": 154,
   "id": "01f9a8e6",
   "metadata": {},
   "outputs": [
    {
     "data": {
      "text/plain": [
       "array([[35],\n",
       "       [98]], dtype=int64)"
      ]
     },
     "execution_count": 154,
     "metadata": {},
     "output_type": "execute_result"
    }
   ],
   "source": [
    "np.argwhere(np.logical_not((dfs_high_conf['inferred_LoT'] == dfs_high_conf['true_LoT']).values))"
   ]
  },
  {
   "cell_type": "code",
   "execution_count": 156,
   "id": "f01f1816",
   "metadata": {},
   "outputs": [
    {
     "data": {
      "text/plain": [
       "inferred_LoT       X_NOR_NC\n",
       "true_LoT         N_X_NOR_NC\n",
       "logp              -0.010071\n",
       "p                   0.98998\n",
       "n_ops                     4\n",
       "datasize                 10\n",
       "nparticipants           250\n",
       "temp                    3.0\n",
       "surprisal           0.00997\n",
       "Name: 28360, dtype: object"
      ]
     },
     "execution_count": 156,
     "metadata": {},
     "output_type": "execute_result"
    }
   ],
   "source": [
    "dfs_high_conf.iloc[35]"
   ]
  },
  {
   "cell_type": "code",
   "execution_count": 157,
   "id": "3ee38e38",
   "metadata": {},
   "outputs": [
    {
     "data": {
      "text/plain": [
       "inferred_LoT         A_NA\n",
       "true_LoT             N_NA\n",
       "logp            -0.022618\n",
       "p                0.977636\n",
       "n_ops                   2\n",
       "datasize                5\n",
       "nparticipants         120\n",
       "temp                  1.0\n",
       "surprisal        0.022112\n",
       "Name: 124581, dtype: object"
      ]
     },
     "execution_count": 157,
     "metadata": {},
     "output_type": "execute_result"
    }
   ],
   "source": [
    "dfs_high_conf.iloc[98]"
   ]
  },
  {
   "cell_type": "markdown",
   "id": "e25cb66d",
   "metadata": {},
   "source": [
    "Print the 30 LoTs that were recovered most often"
   ]
  },
  {
   "cell_type": "code",
   "execution_count": 161,
   "id": "768a2b21",
   "metadata": {},
   "outputs": [],
   "source": [
    "df_mean_size = (\n",
    "    dfs_high_conf\n",
    "    .groupby('true_LoT')\n",
    "    ['p']\n",
    "    .agg(['mean', 'size'])\n",
    "    .sort_values('size', ascending=False)\n",
    ")"
   ]
  },
  {
   "cell_type": "code",
   "execution_count": 199,
   "id": "8f761729",
   "metadata": {},
   "outputs": [
    {
     "name": "stdout",
     "output_type": "stream",
     "text": [
      "\\begin{tabular}{lrlr}\n",
      "\\toprule\n",
      "true\\_LoT &  size &   true\\_LoT &  size \\\\\n",
      "\\midrule\n",
      "     A\\_N &    19 &     A\\_X\\_NA &     3 \\\\\n",
      "     O\\_N &    14 &      B\\_NOR &     3 \\\\\n",
      "   A\\_NOR &    14 &     O\\_N\\_NC &     3 \\\\\n",
      "     NOR &    11 &        N\\_C &     3 \\\\\n",
      "A\\_NOR\\_NC &     8 &   O\\_A\\_N\\_NC &     3 \\\\\n",
      "   N\\_NOR &     6 &      A\\_N\\_X &     3 \\\\\n",
      "   A\\_N\\_B &     5 &    A\\_N\\_NOR &     3 \\\\\n",
      "   O\\_N\\_B &     5 &      NA\\_NC &     2 \\\\\n",
      "   O\\_NOR &     5 &    O\\_A\\_NOR &     2 \\\\\n",
      "      NA &     4 & A\\_B\\_NOR\\_NC &     2 \\\\\n",
      "    B\\_NC &     4 &     N\\_X\\_NC &     2 \\\\\n",
      "    N\\_NC &     4 &   X\\_NA\\_NOR &     2 \\\\\n",
      "   O\\_A\\_N &     4 &    A\\_B\\_NOR &     2 \\\\\n",
      "O\\_NOR\\_NC &     3 &      A\\_N\\_C &     2 \\\\\n",
      "  NOR\\_NC &     3 &      O\\_N\\_X &     2 \\\\\n",
      "\\bottomrule\n",
      "\\end{tabular}\n",
      "\n"
     ]
    }
   ],
   "source": [
    "print(\n",
    "    pd.concat(\n",
    "        [df_mean_size[:15].reset_index(), df_mean_size[15:30].reset_index()],\n",
    "        axis=1,\n",
    "    )\n",
    "    # exclude the mean\n",
    "    .iloc[:,[0,2,3,5]]\n",
    "    .to_latex(\n",
    "        index=False,\n",
    "#         columns=['mean', 'size']\n",
    "    )\n",
    ")"
   ]
  },
  {
   "cell_type": "markdown",
   "id": "2fa3b07c",
   "metadata": {},
   "source": [
    "## Figure - Posterior entropy as a function of number of operators"
   ]
  },
  {
   "cell_type": "code",
   "execution_count": 19,
   "id": "0ea9fbce",
   "metadata": {},
   "outputs": [],
   "source": [
    "grouped_dfs = dfs.groupby(['datasize','nparticipants','temp','true_LoT'])\n",
    "entropy_by_params_combo = grouped_dfs.sum('surprisal')\n",
    "entropy_by_params_combo = entropy_by_params_combo.reset_index()\n",
    "entropy_by_params_combo['n_ops'] = entropy_by_params_combo['true_LoT'].str.count('_')+1"
   ]
  },
  {
   "cell_type": "code",
   "execution_count": 20,
   "id": "43cc07d4",
   "metadata": {},
   "outputs": [],
   "source": [
    "number_LoTs_by_number_ops = (\n",
    "    entropy_by_params_combo[['true_LoT', 'n_ops']]\n",
    "    .drop_duplicates('true_LoT')\n",
    "    ['n_ops']\n",
    "    .value_counts()\n",
    "    .sort_index()\n",
    ")"
   ]
  },
  {
   "cell_type": "code",
   "execution_count": 21,
   "id": "7106aa6f",
   "metadata": {},
   "outputs": [],
   "source": [
    "figwidth = 8.27/4"
   ]
  },
  {
   "cell_type": "code",
   "execution_count": 22,
   "id": "5f1d81e0",
   "metadata": {},
   "outputs": [],
   "source": [
    "def add_comment(ax, labels, col='black'):\n",
    "    # starting y position, vertical y-shift, horizontal x-shift\n",
    "    y, h, w = 4, -1, 0.4\n",
    "    for i, label in enumerate(labels):\n",
    "        x1, x2 = i-w, i+w\n",
    "        ax.plot(\n",
    "            [x1, x1, x2, x2], \n",
    "            [y,    y+h,  y+h,  y], \n",
    "            lw=0.5, \n",
    "            c=col,\n",
    "        )\n",
    "        ax.text(\n",
    "            (x1+x2)*.5, \n",
    "            y+h-0.3, \n",
    "            label, \n",
    "            ha='center', \n",
    "            va='top', \n",
    "            color=col\n",
    "        )"
   ]
  },
  {
   "cell_type": "code",
   "execution_count": 148,
   "id": "ca5a238a",
   "metadata": {},
   "outputs": [
    {
     "data": {
      "image/png": "[encoded data removed]",
      "text/plain": [
       "<Figure size 662.315x446.58 with 6 Axes>"
      ]
     },
     "metadata": {},
     "output_type": "display_data"
    }
   ],
   "source": [
    "g = sns.catplot(\n",
    "    x='Num operators', \n",
    "    y='Entropy',\n",
    "    col='Num participants',\n",
    "    hue='Bias strength',\n",
    "    col_wrap=2,\n",
    "    data=entropy_by_params_combo.rename(columns={\n",
    "        'nparticipants': 'Num participants',\n",
    "        'surprisal': 'Entropy',\n",
    "        'n_ops': 'Num operators',\n",
    "        'temp': 'Bias strength'\n",
    "    }),\n",
    "    kind='violin',\n",
    "    inner=None,\n",
    "    height=figwidth,\n",
    "    aspect=figwidth/(figwidth*0.5)\n",
    ")\n",
    "\n",
    "add_comment(g.axes[0], number_LoTs_by_number_ops.values)\n",
    "\n",
    "g.fig.savefig(\n",
    "    './plots/entropy_by_params_combo.jpg', \n",
    "    dpi=300,\n",
    "    bbox_inches=\"tight\"\n",
    ")"
   ]
  },
  {
   "cell_type": "code",
   "execution_count": 142,
   "id": "9c06fd9a",
   "metadata": {},
   "outputs": [],
   "source": [
    "subdf = entropy_by_params_combo[entropy_by_params_combo['nparticipants']==250]"
   ]
  },
  {
   "cell_type": "code",
   "execution_count": 146,
   "id": "a14989e0",
   "metadata": {},
   "outputs": [
    {
     "data": {
      "image/png": "[encoded data removed]",
      "text/plain": [
       "<Figure size 662.315x297.72 with 4 Axes>"
      ]
     },
     "metadata": {},
     "output_type": "display_data"
    }
   ],
   "source": [
    "g = sns.catplot(\n",
    "    x='Num operators', \n",
    "    y='Entropy',\n",
    "    col='Data size',\n",
    "    hue='Bias strength',\n",
    "    col_wrap=2,\n",
    "    data=subdf.rename(columns={\n",
    "        'datasize': 'Data size',\n",
    "        'surprisal': 'Entropy',\n",
    "        'n_ops': 'Num operators',\n",
    "        'temp': 'Bias strength'\n",
    "    }),\n",
    "    kind='violin',\n",
    "    inner=None,\n",
    "    height=figwidth,\n",
    "    aspect=figwidth/(figwidth*0.5)\n",
    ")\n",
    "\n",
    "g.fig.savefig(\n",
    "    './plots/entropy_by_datasize_with_250_participants.jpg', \n",
    "    dpi=300,\n",
    "    bbox_inches=\"tight\"\n",
    ")"
   ]
  },
  {
   "cell_type": "markdown",
   "id": "e15ad003",
   "metadata": {},
   "source": [
    "## Analyse by operators"
   ]
  },
  {
   "cell_type": "code",
   "execution_count": 23,
   "id": "7eb139d8",
   "metadata": {},
   "outputs": [
    {
     "data": {
      "text/html": [
       "<div>\n",
       "<style scoped>\n",
       "    .dataframe tbody tr th:only-of-type {\n",
       "        vertical-align: middle;\n",
       "    }\n",
       "\n",
       "    .dataframe tbody tr th {\n",
       "        vertical-align: top;\n",
       "    }\n",
       "\n",
       "    .dataframe thead th {\n",
       "        text-align: right;\n",
       "    }\n",
       "</style>\n",
       "<table border=\"1\" class=\"dataframe\">\n",
       "  <thead>\n",
       "    <tr style=\"text-align: right;\">\n",
       "      <th></th>\n",
       "      <th>inferred_LoT</th>\n",
       "      <th>true_LoT</th>\n",
       "      <th>logp</th>\n",
       "      <th>p</th>\n",
       "      <th>n_ops</th>\n",
       "      <th>datasize</th>\n",
       "      <th>nparticipants</th>\n",
       "      <th>temp</th>\n",
       "      <th>surprisal</th>\n",
       "      <th>accepted</th>\n",
       "    </tr>\n",
       "  </thead>\n",
       "  <tbody>\n",
       "    <tr>\n",
       "      <th>0</th>\n",
       "      <td>O_A_C_B_X_NA_NOR_NC</td>\n",
       "      <td>O_A_C_B_X_NA_NOR_NC</td>\n",
       "      <td>-5.962204</td>\n",
       "      <td>2.574233e-03</td>\n",
       "      <td>8</td>\n",
       "      <td>10</td>\n",
       "      <td>10</td>\n",
       "      <td>0.5</td>\n",
       "      <td>1.534810e-02</td>\n",
       "      <td>False</td>\n",
       "    </tr>\n",
       "    <tr>\n",
       "      <th>1</th>\n",
       "      <td>O_A_C_B_X_NA_NOR_NC</td>\n",
       "      <td>O_A_C_X_NA_NOR_NC</td>\n",
       "      <td>-5.545558</td>\n",
       "      <td>3.904764e-03</td>\n",
       "      <td>7</td>\n",
       "      <td>10</td>\n",
       "      <td>10</td>\n",
       "      <td>0.5</td>\n",
       "      <td>2.165410e-02</td>\n",
       "      <td>False</td>\n",
       "    </tr>\n",
       "    <tr>\n",
       "      <th>2</th>\n",
       "      <td>O_A_C_B_X_NA_NOR_NC</td>\n",
       "      <td>O_A_C_B_X_NOR_NC</td>\n",
       "      <td>-5.882607</td>\n",
       "      <td>2.787509e-03</td>\n",
       "      <td>7</td>\n",
       "      <td>10</td>\n",
       "      <td>10</td>\n",
       "      <td>0.5</td>\n",
       "      <td>1.639782e-02</td>\n",
       "      <td>False</td>\n",
       "    </tr>\n",
       "    <tr>\n",
       "      <th>3</th>\n",
       "      <td>O_A_C_B_X_NA_NOR_NC</td>\n",
       "      <td>O_A_C_X_NOR_NC</td>\n",
       "      <td>-5.849203</td>\n",
       "      <td>2.882196e-03</td>\n",
       "      <td>6</td>\n",
       "      <td>10</td>\n",
       "      <td>10</td>\n",
       "      <td>0.5</td>\n",
       "      <td>1.685855e-02</td>\n",
       "      <td>False</td>\n",
       "    </tr>\n",
       "    <tr>\n",
       "      <th>4</th>\n",
       "      <td>O_A_C_B_X_NA_NOR_NC</td>\n",
       "      <td>O_A_C_B_NA_NOR_NC</td>\n",
       "      <td>-5.746762</td>\n",
       "      <td>3.193104e-03</td>\n",
       "      <td>7</td>\n",
       "      <td>10</td>\n",
       "      <td>10</td>\n",
       "      <td>0.5</td>\n",
       "      <td>1.835001e-02</td>\n",
       "      <td>False</td>\n",
       "    </tr>\n",
       "    <tr>\n",
       "      <th>...</th>\n",
       "      <td>...</td>\n",
       "      <td>...</td>\n",
       "      <td>...</td>\n",
       "      <td>...</td>\n",
       "      <td>...</td>\n",
       "      <td>...</td>\n",
       "      <td>...</td>\n",
       "      <td>...</td>\n",
       "      <td>...</td>\n",
       "      <td>...</td>\n",
       "    </tr>\n",
       "    <tr>\n",
       "      <th>128159</th>\n",
       "      <td>NA</td>\n",
       "      <td>O_C_NA</td>\n",
       "      <td>-9.379233</td>\n",
       "      <td>8.445996e-05</td>\n",
       "      <td>3</td>\n",
       "      <td>5</td>\n",
       "      <td>60</td>\n",
       "      <td>3.0</td>\n",
       "      <td>7.921697e-04</td>\n",
       "      <td>False</td>\n",
       "    </tr>\n",
       "    <tr>\n",
       "      <th>128160</th>\n",
       "      <td>NA</td>\n",
       "      <td>C_NA</td>\n",
       "      <td>-208.478831</td>\n",
       "      <td>2.876033e-91</td>\n",
       "      <td>2</td>\n",
       "      <td>5</td>\n",
       "      <td>60</td>\n",
       "      <td>3.0</td>\n",
       "      <td>5.995921e-89</td>\n",
       "      <td>False</td>\n",
       "    </tr>\n",
       "    <tr>\n",
       "      <th>128161</th>\n",
       "      <td>NA</td>\n",
       "      <td>N_NA</td>\n",
       "      <td>-0.861212</td>\n",
       "      <td>4.226494e-01</td>\n",
       "      <td>2</td>\n",
       "      <td>5</td>\n",
       "      <td>60</td>\n",
       "      <td>3.0</td>\n",
       "      <td>3.639909e-01</td>\n",
       "      <td>False</td>\n",
       "    </tr>\n",
       "    <tr>\n",
       "      <th>128162</th>\n",
       "      <td>NA</td>\n",
       "      <td>O_NA</td>\n",
       "      <td>-21.661471</td>\n",
       "      <td>3.913294e-10</td>\n",
       "      <td>2</td>\n",
       "      <td>5</td>\n",
       "      <td>60</td>\n",
       "      <td>3.0</td>\n",
       "      <td>8.476772e-09</td>\n",
       "      <td>False</td>\n",
       "    </tr>\n",
       "    <tr>\n",
       "      <th>128163</th>\n",
       "      <td>NA</td>\n",
       "      <td>NA</td>\n",
       "      <td>-1.022288</td>\n",
       "      <td>3.597707e-01</td>\n",
       "      <td>1</td>\n",
       "      <td>5</td>\n",
       "      <td>60</td>\n",
       "      <td>3.0</td>\n",
       "      <td>3.677894e-01</td>\n",
       "      <td>False</td>\n",
       "    </tr>\n",
       "  </tbody>\n",
       "</table>\n",
       "<p>9227808 rows × 10 columns</p>\n",
       "</div>"
      ],
      "text/plain": [
       "               inferred_LoT             true_LoT        logp             p  \\\n",
       "0       O_A_C_B_X_NA_NOR_NC  O_A_C_B_X_NA_NOR_NC   -5.962204  2.574233e-03   \n",
       "1       O_A_C_B_X_NA_NOR_NC    O_A_C_X_NA_NOR_NC   -5.545558  3.904764e-03   \n",
       "2       O_A_C_B_X_NA_NOR_NC     O_A_C_B_X_NOR_NC   -5.882607  2.787509e-03   \n",
       "3       O_A_C_B_X_NA_NOR_NC       O_A_C_X_NOR_NC   -5.849203  2.882196e-03   \n",
       "4       O_A_C_B_X_NA_NOR_NC    O_A_C_B_NA_NOR_NC   -5.746762  3.193104e-03   \n",
       "...                     ...                  ...         ...           ...   \n",
       "128159                   NA               O_C_NA   -9.379233  8.445996e-05   \n",
       "128160                   NA                 C_NA -208.478831  2.876033e-91   \n",
       "128161                   NA                 N_NA   -0.861212  4.226494e-01   \n",
       "128162                   NA                 O_NA  -21.661471  3.913294e-10   \n",
       "128163                   NA                   NA   -1.022288  3.597707e-01   \n",
       "\n",
       "        n_ops  datasize  nparticipants  temp     surprisal  accepted  \n",
       "0           8        10             10   0.5  1.534810e-02     False  \n",
       "1           7        10             10   0.5  2.165410e-02     False  \n",
       "2           7        10             10   0.5  1.639782e-02     False  \n",
       "3           6        10             10   0.5  1.685855e-02     False  \n",
       "4           7        10             10   0.5  1.835001e-02     False  \n",
       "...       ...       ...            ...   ...           ...       ...  \n",
       "128159      3         5             60   3.0  7.921697e-04     False  \n",
       "128160      2         5             60   3.0  5.995921e-89     False  \n",
       "128161      2         5             60   3.0  3.639909e-01     False  \n",
       "128162      2         5             60   3.0  8.476772e-09     False  \n",
       "128163      1         5             60   3.0  3.677894e-01     False  \n",
       "\n",
       "[9227808 rows x 10 columns]"
      ]
     },
     "execution_count": 23,
     "metadata": {},
     "output_type": "execute_result"
    }
   ],
   "source": [
    "dfs"
   ]
  },
  {
   "cell_type": "code",
   "execution_count": 24,
   "id": "79e43e41",
   "metadata": {},
   "outputs": [
    {
     "data": {
      "text/plain": [
       "6    O_A_B_X_NA_NOR_NC\n",
       "6    O_A_B_X_NA_NOR_NC\n",
       "6    O_A_B_X_NA_NOR_NC\n",
       "6    O_A_B_X_NA_NOR_NC\n",
       "6    O_A_B_X_NA_NOR_NC\n",
       "           ...        \n",
       "6    O_A_B_X_NA_NOR_NC\n",
       "6    O_A_B_X_NA_NOR_NC\n",
       "6    O_A_B_X_NA_NOR_NC\n",
       "6    O_A_B_X_NA_NOR_NC\n",
       "6    O_A_B_X_NA_NOR_NC\n",
       "Name: true_LoT, Length: 72, dtype: object"
      ]
     },
     "execution_count": 24,
     "metadata": {},
     "output_type": "execute_result"
    }
   ],
   "source": [
    "dfs['true_LoT'][6]"
   ]
  },
  {
   "cell_type": "code",
   "execution_count": 25,
   "id": "e3205478",
   "metadata": {},
   "outputs": [],
   "source": [
    "array_all_operators = (\n",
    "    dfs['true_LoT']\n",
    "    .str\n",
    "    .split('_',expand=True)\n",
    ")"
   ]
  },
  {
   "cell_type": "code",
   "execution_count": 27,
   "id": "b3ac12d6",
   "metadata": {},
   "outputs": [
    {
     "data": {
      "text/html": [
       "<div>\n",
       "<style scoped>\n",
       "    .dataframe tbody tr th:only-of-type {\n",
       "        vertical-align: middle;\n",
       "    }\n",
       "\n",
       "    .dataframe tbody tr th {\n",
       "        vertical-align: top;\n",
       "    }\n",
       "\n",
       "    .dataframe thead th {\n",
       "        text-align: right;\n",
       "    }\n",
       "</style>\n",
       "<table border=\"1\" class=\"dataframe\">\n",
       "  <thead>\n",
       "    <tr style=\"text-align: right;\">\n",
       "      <th></th>\n",
       "      <th>0</th>\n",
       "      <th>1</th>\n",
       "      <th>2</th>\n",
       "      <th>3</th>\n",
       "      <th>4</th>\n",
       "      <th>5</th>\n",
       "      <th>6</th>\n",
       "      <th>7</th>\n",
       "    </tr>\n",
       "  </thead>\n",
       "  <tbody>\n",
       "    <tr>\n",
       "      <th>0</th>\n",
       "      <td>O</td>\n",
       "      <td>A</td>\n",
       "      <td>C</td>\n",
       "      <td>B</td>\n",
       "      <td>X</td>\n",
       "      <td>NA</td>\n",
       "      <td>NOR</td>\n",
       "      <td>NC</td>\n",
       "    </tr>\n",
       "    <tr>\n",
       "      <th>1</th>\n",
       "      <td>O</td>\n",
       "      <td>A</td>\n",
       "      <td>C</td>\n",
       "      <td>X</td>\n",
       "      <td>NA</td>\n",
       "      <td>NOR</td>\n",
       "      <td>NC</td>\n",
       "      <td>None</td>\n",
       "    </tr>\n",
       "    <tr>\n",
       "      <th>2</th>\n",
       "      <td>O</td>\n",
       "      <td>A</td>\n",
       "      <td>C</td>\n",
       "      <td>B</td>\n",
       "      <td>X</td>\n",
       "      <td>NOR</td>\n",
       "      <td>NC</td>\n",
       "      <td>None</td>\n",
       "    </tr>\n",
       "    <tr>\n",
       "      <th>3</th>\n",
       "      <td>O</td>\n",
       "      <td>A</td>\n",
       "      <td>C</td>\n",
       "      <td>X</td>\n",
       "      <td>NOR</td>\n",
       "      <td>NC</td>\n",
       "      <td>None</td>\n",
       "      <td>None</td>\n",
       "    </tr>\n",
       "    <tr>\n",
       "      <th>4</th>\n",
       "      <td>O</td>\n",
       "      <td>A</td>\n",
       "      <td>C</td>\n",
       "      <td>B</td>\n",
       "      <td>NA</td>\n",
       "      <td>NOR</td>\n",
       "      <td>NC</td>\n",
       "      <td>None</td>\n",
       "    </tr>\n",
       "    <tr>\n",
       "      <th>...</th>\n",
       "      <td>...</td>\n",
       "      <td>...</td>\n",
       "      <td>...</td>\n",
       "      <td>...</td>\n",
       "      <td>...</td>\n",
       "      <td>...</td>\n",
       "      <td>...</td>\n",
       "      <td>...</td>\n",
       "    </tr>\n",
       "    <tr>\n",
       "      <th>128159</th>\n",
       "      <td>O</td>\n",
       "      <td>C</td>\n",
       "      <td>NA</td>\n",
       "      <td>None</td>\n",
       "      <td>None</td>\n",
       "      <td>None</td>\n",
       "      <td>None</td>\n",
       "      <td>None</td>\n",
       "    </tr>\n",
       "    <tr>\n",
       "      <th>128160</th>\n",
       "      <td>C</td>\n",
       "      <td>NA</td>\n",
       "      <td>None</td>\n",
       "      <td>None</td>\n",
       "      <td>None</td>\n",
       "      <td>None</td>\n",
       "      <td>None</td>\n",
       "      <td>None</td>\n",
       "    </tr>\n",
       "    <tr>\n",
       "      <th>128161</th>\n",
       "      <td>N</td>\n",
       "      <td>NA</td>\n",
       "      <td>None</td>\n",
       "      <td>None</td>\n",
       "      <td>None</td>\n",
       "      <td>None</td>\n",
       "      <td>None</td>\n",
       "      <td>None</td>\n",
       "    </tr>\n",
       "    <tr>\n",
       "      <th>128162</th>\n",
       "      <td>O</td>\n",
       "      <td>NA</td>\n",
       "      <td>None</td>\n",
       "      <td>None</td>\n",
       "      <td>None</td>\n",
       "      <td>None</td>\n",
       "      <td>None</td>\n",
       "      <td>None</td>\n",
       "    </tr>\n",
       "    <tr>\n",
       "      <th>128163</th>\n",
       "      <td>NA</td>\n",
       "      <td>None</td>\n",
       "      <td>None</td>\n",
       "      <td>None</td>\n",
       "      <td>None</td>\n",
       "      <td>None</td>\n",
       "      <td>None</td>\n",
       "      <td>None</td>\n",
       "    </tr>\n",
       "  </tbody>\n",
       "</table>\n",
       "<p>9227808 rows × 8 columns</p>\n",
       "</div>"
      ],
      "text/plain": [
       "         0     1     2     3     4     5     6     7\n",
       "0        O     A     C     B     X    NA   NOR    NC\n",
       "1        O     A     C     X    NA   NOR    NC  None\n",
       "2        O     A     C     B     X   NOR    NC  None\n",
       "3        O     A     C     X   NOR    NC  None  None\n",
       "4        O     A     C     B    NA   NOR    NC  None\n",
       "...     ..   ...   ...   ...   ...   ...   ...   ...\n",
       "128159   O     C    NA  None  None  None  None  None\n",
       "128160   C    NA  None  None  None  None  None  None\n",
       "128161   N    NA  None  None  None  None  None  None\n",
       "128162   O    NA  None  None  None  None  None  None\n",
       "128163  NA  None  None  None  None  None  None  None\n",
       "\n",
       "[9227808 rows x 8 columns]"
      ]
     },
     "execution_count": 27,
     "metadata": {},
     "output_type": "execute_result"
    }
   ],
   "source": [
    "array_all_operators"
   ]
  },
  {
   "cell_type": "code",
   "execution_count": 26,
   "id": "08b7da71",
   "metadata": {},
   "outputs": [
    {
     "name": "stdout",
     "output_type": "stream",
     "text": [
      "O\n",
      "0          True\n",
      "1          True\n",
      "2          True\n",
      "3          True\n",
      "4          True\n",
      "          ...  \n",
      "128159     True\n",
      "128160    False\n",
      "128161    False\n",
      "128162     True\n",
      "128163    False\n",
      "Length: 9227808, dtype: bool\n",
      "A\n",
      "0          True\n",
      "1          True\n",
      "2          True\n",
      "3          True\n",
      "4          True\n",
      "          ...  \n",
      "128159    False\n",
      "128160    False\n",
      "128161    False\n",
      "128162    False\n",
      "128163    False\n",
      "Length: 9227808, dtype: bool\n",
      "N\n",
      "0         False\n",
      "1         False\n",
      "2         False\n",
      "3         False\n",
      "4         False\n",
      "          ...  \n",
      "128159    False\n",
      "128160    False\n",
      "128161     True\n",
      "128162    False\n",
      "128163    False\n",
      "Length: 9227808, dtype: bool\n",
      "C\n",
      "0          True\n",
      "1          True\n",
      "2          True\n",
      "3          True\n",
      "4          True\n",
      "          ...  \n",
      "128159     True\n",
      "128160     True\n",
      "128161    False\n",
      "128162    False\n",
      "128163    False\n",
      "Length: 9227808, dtype: bool\n",
      "B\n",
      "0          True\n",
      "1         False\n",
      "2          True\n",
      "3         False\n",
      "4          True\n",
      "          ...  \n",
      "128159    False\n",
      "128160    False\n",
      "128161    False\n",
      "128162    False\n",
      "128163    False\n",
      "Length: 9227808, dtype: bool\n",
      "X\n",
      "0          True\n",
      "1          True\n",
      "2          True\n",
      "3          True\n",
      "4         False\n",
      "          ...  \n",
      "128159    False\n",
      "128160    False\n",
      "128161    False\n",
      "128162    False\n",
      "128163    False\n",
      "Length: 9227808, dtype: bool\n",
      "NA\n",
      "0          True\n",
      "1          True\n",
      "2         False\n",
      "3         False\n",
      "4          True\n",
      "          ...  \n",
      "128159     True\n",
      "128160     True\n",
      "128161     True\n",
      "128162     True\n",
      "128163     True\n",
      "Length: 9227808, dtype: bool\n",
      "NOR\n",
      "0          True\n",
      "1          True\n",
      "2          True\n",
      "3          True\n",
      "4          True\n",
      "          ...  \n",
      "128159    False\n",
      "128160    False\n",
      "128161    False\n",
      "128162    False\n",
      "128163    False\n",
      "Length: 9227808, dtype: bool\n",
      "NC\n",
      "0          True\n",
      "1          True\n",
      "2          True\n",
      "3          True\n",
      "4          True\n",
      "          ...  \n",
      "128159    False\n",
      "128160    False\n",
      "128161    False\n",
      "128162    False\n",
      "128163    False\n",
      "Length: 9227808, dtype: bool\n"
     ]
    }
   ],
   "source": [
    "for op in LoTs.columns:\n",
    "    print(op)\n",
    "    # get the mask of the languages with that operator\n",
    "    mask_op = (array_all_operators==op).any(1)\n",
    "    print(mask_op)"
   ]
  }
 ],
 "metadata": {
  "kernelspec": {
   "display_name": "pymc3_models",
   "language": "python",
   "name": "pymc3_models"
  },
  "language_info": {
   "codemirror_mode": {
    "name": "ipython",
    "version": 3
   },
   "file_extension": ".py",
   "mimetype": "text/x-python",
   "name": "python",
   "nbconvert_exporter": "python",
   "pygments_lexer": "ipython3",
   "version": "3.8.8"
  }
 },
 "nbformat": 4,
 "nbformat_minor": 5
}
